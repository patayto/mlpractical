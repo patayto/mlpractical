{
 "cells": [
  {
   "cell_type": "code",
   "execution_count": 1,
   "metadata": {
    "pycharm": {
     "is_executing": false
    }
   },
   "outputs": [
    {
     "name": "stdout",
     "output_type": "stream",
     "text": [
      "Leaky ReLU Fprop Functionality Test Passed\n",
      "Leaky ReLU Bprop Test Passed\n"
     ]
    }
   ],
   "source": [
    "from mlp.test_methods import test_leaky_relu\n",
    "import numpy as np\n",
    "\n",
    "fprop_test, fprop_output, fprop_correct, \\\n",
    "bprop_test, bprop_output, bprop_correct = test_leaky_relu()\n",
    "\n",
    "assert fprop_test == 1.0, (\n",
    "'The leaky relu fprop functionality test failed'\n",
    "'Correct output is \\n\\n{0}\\n\\n but returned output is \\n\\n{1}\\n\\n difference is \\n\\n{2}'\n",
    ".format(fprop_correct, fprop_output, fprop_output-fprop_correct)\n",
    ")\n",
    "\n",
    "print(\"Leaky ReLU Fprop Functionality Test Passed\")\n",
    "\n",
    "assert bprop_test == 1.0, (\n",
    "'The leaky relu bprop functionality test failed'\n",
    "'Correct output is \\n\\n{0}\\n\\n but returned output is \\n\\n{1}\\n\\n difference is \\n\\n{2}'\n",
    ".format(bprop_correct, bprop_output, bprop_output-bprop_correct)\n",
    ")\n",
    "\n",
    "print(\"Leaky ReLU Bprop Test Passed\")"
   ]
  },
  {
   "cell_type": "code",
   "execution_count": 2,
   "metadata": {
    "pycharm": {
     "is_executing": false
    }
   },
   "outputs": [
    {
     "name": "stdout",
     "output_type": "stream",
     "text": [
      "Random ReLU Fprop when given an argument leakiness Functionality Test Passed\n",
      "Random ReLU Bprop when using an argument leakiness Functionality Test Passed\n",
      "Random ReLU Fprop when using rng leakiness Functionality Test Passed\n",
      "Random ReLU Bprop when using rng leakiness Functionality Passed\n"
     ]
    }
   ],
   "source": [
    "from mlp.test_methods import test_random_relu\n",
    "\n",
    "fprop_test_arg_leakiness, fprop_output_arg_leakiness, fprop_correct_arg_leakiness, \\\n",
    "bprop_test_arg_leakiness, bprop_output_arg_leakiness, bprop_correct_arg_leakiness, \\\n",
    "fprop_test_rng_leakiness, fprop_output_rng_leakiness, fprop_correct_rng_leakiness, \\\n",
    "bprop_test_rng_leakiness, bprop_output_rng_leakiness, bprop_correct_rng_leakiness = test_random_relu()\n",
    "\n",
    "assert fprop_test_arg_leakiness == 1.0, (\n",
    "'The random relu fprop functionality when given an argument leakiness test failed'\n",
    "'Correct output is \\n\\n{0}\\n\\n but returned output is \\n\\n{1}\\n\\n difference is \\n\\n{2}'\n",
    ".format(fprop_correct_arg_leakiness, fprop_output_arg_leakiness, fprop_output_arg_leakiness-fprop_correct_arg_leakiness)\n",
    ")\n",
    "\n",
    "print(\"Random ReLU Fprop when given an argument leakiness Functionality Test Passed\")\n",
    "\n",
    "assert bprop_test_arg_leakiness == 1.0, (\n",
    "'The random relu bprop functionality when given an argument leakiness test failed'\n",
    "'Correct output is \\n\\n{0}\\n\\n but returned output is \\n\\n{1}\\n\\n difference is \\n\\n{2}'\n",
    ".format(bprop_correct_arg_leakiness, bprop_output_arg_leakiness, bprop_output_arg_leakiness-bprop_correct_arg_leakiness)\n",
    ")\n",
    "\n",
    "print(\"Random ReLU Bprop when using an argument leakiness Functionality Test Passed\")\n",
    "\n",
    "assert fprop_test_rng_leakiness == 1.0, (\n",
    "'The random relu fprop functionality when given an argument leakiness test failed'\n",
    "'Correct output is \\n\\n{0}\\n\\n but returned output is \\n\\n{1}\\n\\n difference is \\n\\n{2}'\n",
    ".format(fprop_correct_rng_leakiness, fprop_output_rng_leakiness, fprop_output_rng_leakiness-fprop_correct_rng_leakiness)\n",
    ")\n",
    "\n",
    "print(\"Random ReLU Fprop when using rng leakiness Functionality Test Passed\")\n",
    "\n",
    "assert bprop_test_rng_leakiness == 1.0, (\n",
    "'The random relu bprop functionality when given rng leakiness test failed'\n",
    "'Correct output is \\n\\n{0}\\n\\n but returned output is \\n\\n{1}\\n\\n difference is \\n\\n{2}'\n",
    ".format(bprop_correct_rng_leakiness, bprop_output_rng_leakiness, bprop_output_rng_leakiness-bprop_correct_rng_leakiness)\n",
    ")\n",
    "\n",
    "print(\"Random ReLU Bprop when using rng leakiness Functionality Passed\")\n"
   ]
  },
  {
   "cell_type": "code",
   "execution_count": 19,
   "metadata": {},
   "outputs": [],
   "source": [
    "from mlp.layers import LeakyReluLayer, ParametricReluLayer, RandomReluLayer, ExponentialLinearUnitLayer\n",
    "import mlp.initialisers as init\n",
    "import numpy as np\n",
    "import os\n",
    "\n",
    "rng = np.random.RandomState(92019)\n",
    "x = rng.normal(loc=0, scale=5.0, size=(50, 3, 64, 64))\n",
    "\n",
    "correct_outputs = np.load(os.path.join(os.environ['MLP_DATA_DIR'], 'activation_debug_pack.npy'), allow_pickle=True).item()\n",
    "\n",
    "layer = ParametricReluLayer(alpha=0.25)\n",
    "out = layer.fprop(x.copy())\n",
    "grads = layer.bprop(inputs=x, outputs=out, grads_wrt_outputs=np.ones(x.shape))\n",
    "grad_wrt_param = layer.grads_wrt_params(inputs=x, grads_wrt_outputs=np.ones(x.shape))\n",
    "\n",
    "correct_outputs = correct_outputs['prelu']\n",
    "\n",
    "fprop_test = np.allclose(correct_outputs['fprop_correct'], out)\n",
    "\n",
    "bprop_test = np.allclose(correct_outputs['grad_correct'], grads)\n",
    "\n",
    "grad_wrt_param_test = np.allclose(correct_outputs['grad_param'], grad_wrt_param)\n"
   ]
  },
  {
   "cell_type": "code",
   "execution_count": 4,
   "metadata": {},
   "outputs": [
    {
     "name": "stdout",
     "output_type": "stream",
     "text": [
      "Parametric ReLU Fprop Functionality Test Passed\n",
      "Parametric ReLU Grads wrt Params Test Passed\n",
      "Parametric ReLU Bprop Test Passed\n"
     ]
    }
   ],
   "source": [
    "from mlp.test_methods import test_parametric_relu\n",
    "\n",
    "fprop_test, fprop_output, fprop_correct, \\\n",
    "bprop_test, bprop_output, bprop_correct, \\\n",
    "grads_wrt_param_test, grads_wrt_param_output, grads_wrt_param_correct = test_parametric_relu()\n",
    "\n",
    "assert fprop_test == 1.0, (\n",
    "'The parametric relu fprop functionality test failed'\n",
    "'Correct output is \\n\\n{0}\\n\\n but returned output is \\n\\n{1}\\n\\n difference is \\n\\n{2}'\n",
    ".format(fprop_correct, fprop_output, fprop_output-fprop_correct)\n",
    ")\n",
    "\n",
    "print(\"Parametric ReLU Fprop Functionality Test Passed\")\n",
    "\n",
    "assert grads_wrt_param_test == 1.0, (\n",
    "'The parametric relu grad_wrt_param functionality test failed'\n",
    "'Correct output is \\n\\n{0}\\n\\n but returned output is \\n\\n{1}\\n\\n difference is \\n\\n{2}'\n",
    ".format(grads_wrt_param_correct, grads_wrt_param_output, grads_wrt_param_output-grads_wrt_param_correct)\n",
    ")\n",
    "\n",
    "print(\"Parametric ReLU Grads wrt Params Test Passed\")\n",
    "\n",
    "assert bprop_test == 1.0, (\n",
    "'The parametric relu bprop functionality test failed'\n",
    "'Correct output is \\n\\n{0}\\n\\n but returned output is \\n\\n{1}\\n\\n difference is \\n\\n{2}'\n",
    ".format(bprop_correct, bprop_output, bprop_output-bprop_correct)\n",
    ")\n",
    "\n",
    "print(\"Parametric ReLU Bprop Test Passed\")\n",
    "\n"
   ]
  },
  {
   "cell_type": "code",
   "execution_count": 3,
   "metadata": {},
   "outputs": [],
   "source": [
    "from mlp.layers import LeakyReluLayer, ParametricReluLayer, RandomReluLayer, ExponentialLinearUnitLayer\n",
    "import numpy as np\n",
    "import os\n",
    "\n",
    "rng = np.random.RandomState(92019)\n",
    "x = rng.normal(loc=0, scale=5.0, size=(50, 3, 64, 64))\n",
    "\n",
    "correct_outputs = np.load(os.path.join(os.environ['MLP_DATA_DIR'], 'activation_debug_pack.npy'), allow_pickle=True).item()\n",
    "\n",
    "layer = ExponentialLinearUnitLayer()\n",
    "out = layer.fprop(x)\n",
    "grads = layer.bprop(inputs=x, outputs=out, grads_wrt_outputs=np.ones(x.shape))\n",
    "\n",
    "correct_outputs = correct_outputs['elu']\n",
    "\n",
    "fprop_test = np.allclose(correct_outputs['fprop_correct'], out, rtol=1e-3, atol=1e-6)\n",
    "\n",
    "bprop_test = np.allclose(correct_outputs['grad_correct'], grads, rtol=1e-3, atol=1e-6)"
   ]
  },
  {
   "cell_type": "code",
   "execution_count": null,
   "metadata": {},
   "outputs": [],
   "source": [
    "(inputs >= 0) + ((inputs < 0) * (self.fprop(inputs) + self.alpha))"
   ]
  },
  {
   "cell_type": "code",
   "execution_count": 4,
   "metadata": {},
   "outputs": [
    {
     "data": {
      "text/plain": [
       "False"
      ]
     },
     "execution_count": 4,
     "metadata": {},
     "output_type": "execute_result"
    }
   ],
   "source": [
    "np.allclose(correct_outputs['grad_correct'], grads, rtol=1e-3, atol=1e-6)"
   ]
  },
  {
   "cell_type": "code",
   "execution_count": 1,
   "metadata": {},
   "outputs": [
    {
     "name": "stdout",
     "output_type": "stream",
     "text": [
      "ELU Fprop Functionality Test Passed\n",
      "ELU Bprop Test Passed\n"
     ]
    }
   ],
   "source": [
    "from mlp.test_methods import test_exponential_linear_unit\n",
    "\n",
    "\n",
    "fprop_test, fprop_output, fprop_correct, \\\n",
    "bprop_test, bprop_output, bprop_correct = test_exponential_linear_unit()\n",
    "\n",
    "\n",
    "assert fprop_test == 1.0, (\n",
    "'The random relu fprop functionality test failed'\n",
    "'Correct output is \\n\\n{0}\\n\\n but returned output is \\n\\n{1}\\n\\n difference is \\n\\n{2}'\n",
    ".format(fprop_correct, fprop_output, fprop_output-fprop_correct)\n",
    ")\n",
    "\n",
    "print(\"ELU Fprop Functionality Test Passed\")\n",
    "\n",
    "assert bprop_test == 1.0, (\n",
    "'The random relu bprop functionality test failed'\n",
    "'Correct output is \\n\\n{0}\\n\\n but returned output is \\n\\n{1}\\n\\n difference is \\n\\n{2}'\n",
    ".format(bprop_correct, bprop_output, bprop_output-bprop_correct, bprop_output/bprop_correct)\n",
    ")\n",
    "\n",
    "\n",
    "\n",
    "print(\"ELU Bprop Test Passed\")"
   ]
  },
  {
   "cell_type": "code",
   "execution_count": null,
   "metadata": {},
   "outputs": [],
   "source": []
  }
 ],
 "metadata": {
  "kernelspec": {
   "display_name": "Python 3",
   "language": "python",
   "name": "python3"
  },
  "language_info": {
   "codemirror_mode": {
    "name": "ipython",
    "version": 3
   },
   "file_extension": ".py",
   "mimetype": "text/x-python",
   "name": "python",
   "nbconvert_exporter": "python",
   "pygments_lexer": "ipython3",
   "version": "3.7.2"
  }
 },
 "nbformat": 4,
 "nbformat_minor": 1
}
